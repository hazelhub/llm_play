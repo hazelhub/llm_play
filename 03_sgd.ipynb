{
 "cells": [
  {
   "cell_type": "markdown",
   "id": "5994e89e",
   "metadata": {},
   "source": [
    "# Simple MLP"
   ]
  },
  {
   "cell_type": "code",
   "execution_count": 2,
   "id": "92b4a98b",
   "metadata": {},
   "outputs": [
    {
     "name": "stdout",
     "output_type": "stream",
     "text": [
      "Epoch 0: , Loss:  0.43025293946266174 \n",
      "Epoch 1: , Loss:  0.41577911376953125 \n",
      "Epoch 2: , Loss:  0.4019114375114441 \n",
      "Epoch 3: , Loss:  0.38862189650535583 \n",
      "Epoch 4: , Loss:  0.3758722245693207 \n",
      "Epoch 5: , Loss:  0.36363232135772705 \n",
      "Epoch 6: , Loss:  0.35189834237098694 \n",
      "Epoch 7: , Loss:  0.3406450152397156 \n",
      "Epoch 8: , Loss:  0.32982584834098816 \n",
      "Epoch 9: , Loss:  0.31945258378982544 \n"
     ]
    }
   ],
   "source": [
    "import torch\n",
    "import torch.nn as nn\n",
    "import numpy as np\n",
    "\n",
    "\n",
    "torch.manual_seed(100)\n",
    "\n",
    "N = 10\n",
    "\n",
    "x = torch.rand(N,3)\n",
    "y = torch.rand(N,2)\n",
    "\n",
    "model = nn.Sequential(\n",
    "    nn.Linear(3,5),\n",
    "    nn.ReLU(),\n",
    "    nn.Linear(5,2)\n",
    ")\n",
    "\n",
    "criterion = nn.MSELoss()\n",
    "\n",
    "optimizer = torch.optim.SGD( model.parameters(), \n",
    "                            lr=0.01)\n",
    "\n",
    "for epoch in range(10): \n",
    "    y_pred = model(x)\n",
    "    loss = criterion(y_pred,y)\n",
    "    optimizer.zero_grad()\n",
    "    loss.backward()\n",
    "    optimizer.step()\n",
    "    if epoch % 1 == 0:\n",
    "        print(f\"Epoch {epoch}: , Loss:  {loss.item()} \")\n"
   ]
  },
  {
   "cell_type": "code",
   "execution_count": null,
   "id": "8d523f01",
   "metadata": {},
   "outputs": [],
   "source": []
  }
 ],
 "metadata": {
  "kernelspec": {
   "display_name": "Python 3",
   "language": "python",
   "name": "python3"
  },
  "language_info": {
   "codemirror_mode": {
    "name": "ipython",
    "version": 3
   },
   "file_extension": ".py",
   "mimetype": "text/x-python",
   "name": "python",
   "nbconvert_exporter": "python",
   "pygments_lexer": "ipython3",
   "version": "3.10.12"
  }
 },
 "nbformat": 4,
 "nbformat_minor": 5
}
